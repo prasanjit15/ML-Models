{
  "nbformat": 4,
  "nbformat_minor": 0,
  "metadata": {
    "colab": {
      "name": "PolynomialRegression.ipynb",
      "provenance": [],
      "collapsed_sections": []
    },
    "kernelspec": {
      "name": "python3",
      "display_name": "Python 3"
    }
  },
  "cells": [
    {
      "cell_type": "markdown",
      "metadata": {
        "id": "qmeS3d7moi6i",
        "colab_type": "text"
      },
      "source": [
        "# Data Preprocessing"
      ]
    },
    {
      "cell_type": "code",
      "metadata": {
        "id": "X5iFfOqak-FP",
        "colab_type": "code",
        "colab": {}
      },
      "source": [
        "import pandas as pd\n",
        "import numpy as np\n",
        "import matplotlib.pyplot as plt"
      ],
      "execution_count": 0,
      "outputs": []
    },
    {
      "cell_type": "code",
      "metadata": {
        "id": "qLZx7CrkoQbW",
        "colab_type": "code",
        "colab": {}
      },
      "source": [
        "dataset = pd.read_csv('Position_Salaries.csv')\n",
        "X = dataset.iloc[:, 1:-1].values\n",
        "y = dataset.iloc[:, -1].values"
      ],
      "execution_count": 0,
      "outputs": []
    },
    {
      "cell_type": "markdown",
      "metadata": {
        "id": "qRslPLQ7vIti",
        "colab_type": "text"
      },
      "source": [
        "# Training the linear Regression Model"
      ]
    },
    {
      "cell_type": "code",
      "metadata": {
        "id": "ogS_XmA0ogcK",
        "colab_type": "code",
        "outputId": "254d6096-6ab8-4433-d25e-ff5272ebfb4f",
        "colab": {
          "base_uri": "https://localhost:8080/",
          "height": 34
        }
      },
      "source": [
        "from sklearn.linear_model import LinearRegression\n",
        "linreg = LinearRegression()\n",
        "linreg.fit(X, y)"
      ],
      "execution_count": 0,
      "outputs": [
        {
          "output_type": "execute_result",
          "data": {
            "text/plain": [
              "LinearRegression(copy_X=True, fit_intercept=True, n_jobs=None, normalize=False)"
            ]
          },
          "metadata": {
            "tags": []
          },
          "execution_count": 30
        }
      ]
    },
    {
      "cell_type": "markdown",
      "metadata": {
        "id": "4yUZU2GjvOLJ",
        "colab_type": "text"
      },
      "source": [
        "# Training the Polynomial Regression Model"
      ]
    },
    {
      "cell_type": "code",
      "metadata": {
        "id": "_jbPStItrE7i",
        "colab_type": "code",
        "outputId": "117398e5-c7e2-48a3-8186-450fd2f36988",
        "colab": {
          "base_uri": "https://localhost:8080/",
          "height": 34
        }
      },
      "source": [
        "from sklearn.preprocessing import PolynomialFeatures\n",
        "polyreg = PolynomialFeatures(degree = 4)\n",
        "X_new = polyreg.fit_transform(X)\n",
        "linreg_2 = LinearRegression()\n",
        "linreg_2.fit(X_new, y)"
      ],
      "execution_count": 0,
      "outputs": [
        {
          "output_type": "execute_result",
          "data": {
            "text/plain": [
              "LinearRegression(copy_X=True, fit_intercept=True, n_jobs=None, normalize=False)"
            ]
          },
          "metadata": {
            "tags": []
          },
          "execution_count": 31
        }
      ]
    },
    {
      "cell_type": "markdown",
      "metadata": {
        "id": "2hz2cRx3prsF",
        "colab_type": "text"
      },
      "source": [
        "# Visualising Linear Regression Results"
      ]
    },
    {
      "cell_type": "code",
      "metadata": {
        "id": "nNlkEGNL4VKw",
        "colab_type": "code",
        "outputId": "85f1ea45-53c6-4451-c9c4-1eef4c3f05ca",
        "colab": {
          "base_uri": "https://localhost:8080/",
          "height": 312
        }
      },
      "source": [
        "plt.scatter(X, y, color = 'red')\n",
        "plt.plot(X, linreg.predict(X), color = 'blue')\n",
        "plt.title('Truth vs false (Linear Regression)')\n",
        "plt.xlabel('Position')\n",
        "plt.ylabel('salary')"
      ],
      "execution_count": 0,
      "outputs": [
        {
          "output_type": "execute_result",
          "data": {
            "text/plain": [
              "Text(0, 0.5, 'salary')"
            ]
          },
          "metadata": {
            "tags": []
          },
          "execution_count": 32
        },
        {
          "output_type": "display_data",
          "data": {
            "image/png": "[encoded data removed]",
            "text/plain": [
              "<Figure size 432x288 with 1 Axes>"
            ]
          },
          "metadata": {
            "tags": [],
            "needs_background": "light"
          }
        }
      ]
    },
    {
      "cell_type": "markdown",
      "metadata": {
        "id": "ePMytw-ZrO8q",
        "colab_type": "text"
      },
      "source": [
        "# Polynomial Regression Results"
      ]
    },
    {
      "cell_type": "code",
      "metadata": {
        "id": "d1DNbJe1p_5b",
        "colab_type": "code",
        "outputId": "5f6b8911-47a0-4cff-9d19-ec22cc330ea2",
        "colab": {
          "base_uri": "https://localhost:8080/",
          "height": 312
        }
      },
      "source": [
        "plt.scatter(X, y, color = 'red')\n",
        "plt.plot(X, linreg_2.predict(X_new), color = 'blue')\n",
        "#We cannot keep X as the parameter of linreg.predict() bcoz it only contains single features where as X_new is the one which contains the powered features\n",
        "plt.title('Truth vs false (Polynomial Regression)')\n",
        "plt.xlabel('Position')\n",
        "plt.ylabel('salary')"
      ],
      "execution_count": 0,
      "outputs": [
        {
          "output_type": "execute_result",
          "data": {
            "text/plain": [
              "Text(0, 0.5, 'salary')"
            ]
          },
          "metadata": {
            "tags": []
          },
          "execution_count": 33
        },
        {
          "output_type": "display_data",
          "data": {
            "image/png": "[encoded data removed]",
            "text/plain": [
              "<Figure size 432x288 with 1 Axes>"
            ]
          },
          "metadata": {
            "tags": [],
            "needs_background": "light"
          }
        }
      ]
    },
    {
      "cell_type": "markdown",
      "metadata": {
        "id": "SmIbnsZmsqSn",
        "colab_type": "text"
      },
      "source": [
        "# Predicting on single tests (Linear Regression)"
      ]
    },
    {
      "cell_type": "code",
      "metadata": {
        "id": "x2X6P9c9sphr",
        "colab_type": "code",
        "outputId": "e793347e-b252-43d2-b513-e26adc758be8",
        "colab": {
          "base_uri": "https://localhost:8080/",
          "height": 34
        }
      },
      "source": [
        "linreg.predict([[6.5]])"
      ],
      "execution_count": 0,
      "outputs": [
        {
          "output_type": "execute_result",
          "data": {
            "text/plain": [
              "array([330378.78787879])"
            ]
          },
          "metadata": {
            "tags": []
          },
          "execution_count": 38
        }
      ]
    },
    {
      "cell_type": "markdown",
      "metadata": {
        "id": "293-vYKXuq2Z",
        "colab_type": "text"
      },
      "source": [
        "# Predicting on single tests (Polynomial Regression)"
      ]
    },
    {
      "cell_type": "code",
      "metadata": {
        "id": "KNoZXvIVtRKV",
        "colab_type": "code",
        "outputId": "8f1ef51e-bbe0-4861-bac4-231ba6cadf83",
        "colab": {
          "base_uri": "https://localhost:8080/",
          "height": 34
        }
      },
      "source": [
        "linreg_2.predict(polyreg.fit_transform([[6.5]]))"
      ],
      "execution_count": 0,
      "outputs": [
        {
          "output_type": "execute_result",
          "data": {
            "text/plain": [
              "array([158862.45265155])"
            ]
          },
          "metadata": {
            "tags": []
          },
          "execution_count": 40
        }
      ]
    }
  ]
}